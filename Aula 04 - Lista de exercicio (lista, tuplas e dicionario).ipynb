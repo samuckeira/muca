{
 "cells": [
  {
   "cell_type": "markdown",
   "metadata": {},
   "source": [
    "#### Exercício 01  \n",
    "\n",
    "Crie uma lista com nomes de 4 times de futebol.\n",
    "\n",
    "###### a) Palmeiras\n",
    "###### b) São Paulo\n",
    "###### c) Santos\n",
    "###### d) Água Santa\n",
    "###### e) Acesse o time que está na 3a posição.\n",
    "###### F) Crie uma lista com duas listas de 3 times de futebol, cada uma de uma\n",
    "divisão diferente.\n"
   ]
  },
  {
   "cell_type": "code",
   "execution_count": 9,
   "metadata": {},
   "outputs": [
    {
     "name": "stdout",
     "output_type": "stream",
     "text": [
      "O time que está na 3ª posição é: Coritiba\n",
      "O time que está na 4ª posição é: Santos\n",
      "O time que está na 1ª posição é: 51\n"
     ]
    }
   ],
   "source": [
    " ## Crie uma lista com nome de times\n",
    "\n",
    "times = ['51','São Paulo','Coritiba','Santos']\n",
    "\n",
    "# Acessar o time que está na 1ª Posição.\n",
    "print('O time que está na 3ª posição é:', times[2])\n",
    "\n",
    "# Acessar o time que está na 2ª Posição.\n",
    "print('O time que está na 4ª posição é:', times[3])\n",
    "\n",
    "# Acessar o time que está na 3ª Posição.\n",
    "print('O time que está na 1ª posição é:', times[0])\n",
    "\n"
   ]
  },
  {
   "cell_type": "code",
   "execution_count": 10,
   "metadata": {},
   "outputs": [
    {
     "name": "stdout",
     "output_type": "stream",
     "text": [
      "sport\n"
     ]
    }
   ],
   "source": [
    "# Crindo sublistas\n",
    "\n",
    "times_2 = [\n",
    "    ['coritiba', 'sport', 'palmeiras'],\n",
    "['sao caetano', 'taperinha', 'ganso loko']\n",
    "]\n",
    "\n",
    "#retonar o time do sport\n",
    "print(times_2[0][1])"
   ]
  },
  {
   "cell_type": "markdown",
   "metadata": {},
   "source": [
    "#### Exercício 02\n",
    "\n",
    "Crie uma lista com 3 diferentes moedas. Acrescente mais 2\n",
    "outras moedas à essa mesma lista."
   ]
  },
  {
   "cell_type": "code",
   "execution_count": 15,
   "metadata": {},
   "outputs": [
    {
     "name": "stdout",
     "output_type": "stream",
     "text": [
      "***** criando uma lista com 3 moedas *****\n",
      "['dolar', 'real', 'euro']\n",
      "***** adicionando mais duas moedas a lista ******\n",
      "['dolar', 'real', 'euro', 'Pounds', 'rand']\n"
     ]
    }
   ],
   "source": [
    "# criando a lista com 3 moedas diferentes\n",
    "print('***** criando uma lista com 3 moedas *****')\n",
    "moedas = ['dolar', 'real' , 'euro']\n",
    "\n",
    "# exibir a lista\n",
    "print(moedas)\n",
    "\n",
    "#adicionar mais duas moedas \n",
    "print('***** adicionando mais duas moedas a lista ******')\n",
    "moedas.append('Pounds')\n",
    "moedas.append('rand')\n",
    "\n",
    "#exibir lista\n",
    "print(moedas)\n"
   ]
  },
  {
   "cell_type": "markdown",
   "metadata": {},
   "source": [
    "#### Exercício 03 \n",
    "\n",
    "Crie uma string com a lista do exercício anterior."
   ]
  },
  {
   "cell_type": "code",
   "execution_count": 18,
   "metadata": {},
   "outputs": [
    {
     "name": "stdout",
     "output_type": "stream",
     "text": [
      "dolar,real,euro,Pounds,rand\n",
      "<class 'str'>\n"
     ]
    }
   ],
   "source": [
    "# comando join realiza junção dos elementos da lista\n",
    "# formando uma unica string\n",
    "\n",
    "stringmoedas = ',' .join(moedas)\n",
    "\n",
    "print(stringmoedas)\n",
    "print(type(stringmoedas))\n",
    "\n"
   ]
  },
  {
   "cell_type": "markdown",
   "metadata": {},
   "source": [
    "#### exercício 04 \n",
    "\n",
    "Agora utilize a string do exercício 6 para recriar uma lista."
   ]
  },
  {
   "cell_type": "code",
   "execution_count": 19,
   "metadata": {},
   "outputs": [
    {
     "name": "stdout",
     "output_type": "stream",
     "text": [
      "['dolar', 'real', 'euro', 'Pounds', 'rand']\n",
      "<class 'list'>\n"
     ]
    }
   ],
   "source": [
    "# o comando split converte uma string em lista\n",
    "\n",
    "listamoedas = stringmoedas.split(',')\n",
    "\n",
    "print(listamoedas)\n",
    "print(type(listamoedas))\n",
    "\n",
    "\n"
   ]
  },
  {
   "cell_type": "markdown",
   "metadata": {},
   "source": [
    "#### tuplas (tuple) - outris exemplos\n",
    "\n",
    "as tuplsa são um forma eficaz de usar funções para retornar multiplos valores:\n",
    "\n"
   ]
  },
  {
   "cell_type": "code",
   "execution_count": 20,
   "metadata": {},
   "outputs": [],
   "source": [
    "# Criando uma função \n",
    "\n",
    "def sum_and_product (x, y):\n",
    "    return (x + y), (x * y)\n"
   ]
  },
  {
   "cell_type": "code",
   "execution_count": 25,
   "metadata": {},
   "outputs": [
    {
     "name": "stdout",
     "output_type": "stream",
     "text": [
      "(5, 6)\n",
      "15\n",
      "50\n"
     ]
    }
   ],
   "source": [
    "# testando a função \n",
    "\n",
    "resultado = sum_and_product (2, 3)\n",
    "\n",
    "print (resultado)\n",
    "\n",
    "# outro resultado\n",
    "a, b = sum_and_product(5, 10)\n",
    "\n",
    "print (a)\n",
    "print (b)\n",
    "\n"
   ]
  },
  {
   "cell_type": "code",
   "execution_count": null,
   "metadata": {},
   "outputs": [],
   "source": []
  }
 ],
 "metadata": {
  "kernelspec": {
   "display_name": "Python 3",
   "language": "python",
   "name": "python3"
  },
  "language_info": {
   "codemirror_mode": {
    "name": "ipython",
    "version": 3
   },
   "file_extension": ".py",
   "mimetype": "text/x-python",
   "name": "python",
   "nbconvert_exporter": "python",
   "pygments_lexer": "ipython3",
   "version": "3.11.0"
  }
 },
 "nbformat": 4,
 "nbformat_minor": 2
}
