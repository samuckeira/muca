{
 "cells": [
  {
   "cell_type": "markdown",
   "metadata": {},
   "source": [
    "#### Exercício 11 \n",
    "\n",
    "Faça um Programa que peça dois números e imprima o maior deles."
   ]
  },
  {
   "cell_type": "markdown",
   "metadata": {},
   "source": [
    "#### Exercício 15 \n",
    "\n",
    "Faça um programa para a leitura de duas notas parciais de um aluno. O\n",
    "programa deve calcular a média alcançada por aluno e apresentar:\n",
    "\n",
    "• A mensagem \"Aprovado\", se a média alcançada for maior ou igual a sete;\n",
    "• A mensagem \"Reprovado\", se a média for menor do que sete;\n",
    "• A mensagem \"Aprovado com Distinção\", se a média for igual a dez."
   ]
  },
  {
   "cell_type": "code",
   "execution_count": 16,
   "metadata": {},
   "outputs": [
    {
     "name": "stdout",
     "output_type": "stream",
     "text": [
      "aprovado com distinção a sua media final é 10.0\n"
     ]
    }
   ],
   "source": [
    "# inserir as notas\n",
    "\n",
    "nota1 = float(input('digite a primeira nota'))\n",
    "nota2 = float(input('digite a segunda nota'))\n",
    "\n",
    "# calcular a media\n",
    "media = (nota1 + nota2) / 2 \n",
    "\n",
    "\n",
    "\n",
    "# verificar a media\n",
    "if media == 10:\n",
    "    print(f'aprovado com distinção a sua media final é {media}')\n",
    "elif media >= 7:\n",
    "    print(f'Aprovado! a sua media final é {media}')\n",
    "elif media < 7:\n",
    "    print(f'Reprovado! a sua media final é {media}')\n",
    "\n",
    "\n",
    "\n"
   ]
  },
  {
   "cell_type": "markdown",
   "metadata": {},
   "source": [
    "#### Exercício 16 \n",
    "\n",
    "Faça um Programa que leia três números e mostre o maior deles."
   ]
  },
  {
   "cell_type": "code",
   "execution_count": 19,
   "metadata": {},
   "outputs": [
    {
     "name": "stdout",
     "output_type": "stream",
     "text": [
      "3\n"
     ]
    }
   ],
   "source": [
    "# inserir os valores numericos\n",
    "num1 = int(input('digite o primeiro valor'))\n",
    "num2 = int(input('digite o segundo valor'))\n",
    "num3 = int(input('digite o terceiro valor'))\n",
    "\n",
    "maior = num1\n",
    "\n",
    "# verificar o maior valor\n",
    "if num1 > num2 and num1 > num3:\n",
    "    print(f'num1')\n",
    "elif num2 > num1 and num2 > num3:\n",
    "    print(f'num2')\n",
    "else:\n",
    "    print(f'num3')\n"
   ]
  },
  {
   "cell_type": "markdown",
   "metadata": {},
   "source": [
    "#### Exercício 17 \n",
    "\n",
    "Faça um Programa que leia três números e mostre o maior e o menor\n",
    "deles."
   ]
  },
  {
   "cell_type": "code",
   "execution_count": 22,
   "metadata": {},
   "outputs": [],
   "source": [
    "num1 = int(input('primeiro numero: '))\n",
    "num2 = int(input('segundo numero: '))\n",
    "num3 = int(input('terceiro numero: '))\n",
    "\n",
    "maior = num1\n",
    "menor = num1 \n",
    "\n",
    "if  maior < num2:\n",
    "    maior = num2\n",
    "\n",
    "if maior > num3:\n",
    "    maior = num3\n",
    "\n",
    "if menor > num2:\n",
    "    menor = num2\n",
    "\n",
    "if menor > num3:\n",
    "    menor = num3\n",
    "    \n",
    "    print ('maior: %d ' %maior)\n",
    "    print ('menor: %d ' %menor)\n",
    "\n",
    "\n",
    "\n",
    "\n",
    "\n"
   ]
  },
  {
   "cell_type": "code",
   "execution_count": 24,
   "metadata": {},
   "outputs": [
    {
     "name": "stdout",
     "output_type": "stream",
     "text": [
      "o maior valor é 3 e o menor é 1\n"
     ]
    }
   ],
   "source": [
    "num1 = int(input('primeiro numero: '))\n",
    "num2 = int(input('segundo numero: '))\n",
    "num3 = int(input('terceiro numero: '))\n",
    "\n",
    "maior = num1\n",
    "menor = num1 \n",
    "\n",
    "if num1 > num2 and num1 > num3:\n",
    "    if num2 < num3:\n",
    "        print (f'o maior valor é {num1} e o menor é {num3}')\n",
    "    else: \n",
    "        print (f'o maior valor é {num1} e o menor é {num3}')\n",
    "elif num2 < num1 and num2 > num3:\n",
    "    if num1 < num2:\n",
    "        print(f'o maior valor é {num2} e o menor é {num1} ')\n",
    "    else:\n",
    "        print(f'o maior é {num2} e o menor {num3}')\n",
    "elif num3 > num1 and num3 > num2:\n",
    "    if num1 < num2:\n",
    "        print(f'o maior valor é {num3} e o menor é {num1}')\n",
    "    else:\n",
    "        print (f'o maior valor é {num3} e o menor é {num2}')\n",
    "\n",
    "        \n"
   ]
  },
  {
   "cell_type": "markdown",
   "metadata": {},
   "source": [
    "#### Exercício 18 \n",
    "\n",
    "Faça um programa que pergunte o preço de três produtos e informe qual\n",
    "produto você deve comprar, sabendo que a decisão é sempre pelo mais barato."
   ]
  },
  {
   "cell_type": "code",
   "execution_count": 25,
   "metadata": {},
   "outputs": [
    {
     "name": "stdout",
     "output_type": "stream",
     "text": [
      "O produto com o menor preco é o 1, custando R$1.0\n"
     ]
    }
   ],
   "source": [
    "preco1 = float(input('digite o preço do produto 1:'))\n",
    "preco2 = float(input('digite o preço do produto 2:'))\n",
    "preco3 = float(input('digite o preço do produto 3:'))\n",
    "\n",
    "if preco1 < preco2 and preco1 < preco3:\n",
    "    print(f'O produto com o menor preço é o 1, preço R${preco1}')\n",
    "elif preco2 < preco1 and preco2 < preco3:\n",
    "    print(f'O produto com o menor preço é o 2, preço R${preco2}')\n",
    "else:\n",
    "    print(f'O produto com o menor preço é o 3, preço R${preco3}')\n",
    "\n"
   ]
  },
  {
   "cell_type": "markdown",
   "metadata": {},
   "source": [
    "#### Exercício 19  \n",
    "\n",
    "Faça um Programa que leia três números e mostre-os em ordem\n",
    "decrescente."
   ]
  },
  {
   "cell_type": "code",
   "execution_count": null,
   "metadata": {},
   "outputs": [],
   "source": [
    "num1 = float(input('digite o primeiro valor'))\n",
    "num2 = float(input('digite o segundo valor'))\n",
    "num3 = float(input('digite o terceiro valor'))\n",
    "\n",
    "if num1 > num2 and num2 > num3:\n",
    "    "
   ]
  }
 ],
 "metadata": {
  "kernelspec": {
   "display_name": "Python 3",
   "language": "python",
   "name": "python3"
  },
  "language_info": {
   "codemirror_mode": {
    "name": "ipython",
    "version": 3
   },
   "file_extension": ".py",
   "mimetype": "text/x-python",
   "name": "python",
   "nbconvert_exporter": "python",
   "pygments_lexer": "ipython3",
   "version": "3.11.0"
  }
 },
 "nbformat": 4,
 "nbformat_minor": 2
}
