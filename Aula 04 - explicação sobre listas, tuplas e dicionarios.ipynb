{
 "cells": [
  {
   "cell_type": "markdown",
   "metadata": {},
   "source": [
    "\n",
    "Listas agrupam um conjunto de elementos variados, podendo conter: inteiros, floats,\n",
    "strings, outras listas e outros tipos.\n",
    "Elas são definidas utilizando-se colchetes para delimitar a lista e vírgulas para\n",
    "separar os elementos, veja alguns exemplo abaixo:"
   ]
  },
  {
   "cell_type": "code",
   "execution_count": 9,
   "metadata": {},
   "outputs": [
    {
     "name": "stdout",
     "output_type": "stream",
     "text": [
      "<class 'list'>\n",
      "<class 'list'>\n"
     ]
    }
   ],
   "source": [
    "#expemplo 1\n",
    "\n",
    "alunos = ['amanda' , 'ana' , 'bruno' , 'joão']\n",
    "notas = [10, 8.5, 7,8, 8.0]\n",
    "\n",
    "print(type(alunos))\n",
    "print(type(notas))\n",
    "\n"
   ]
  },
  {
   "cell_type": "markdown",
   "metadata": {},
   "source": [
    "### Listas (list) - Acessando itens na lista\n",
    "\n",
    "\n"
   ]
  },
  {
   "cell_type": "code",
   "execution_count": 6,
   "metadata": {},
   "outputs": [
    {
     "name": "stdout",
     "output_type": "stream",
     "text": [
      "a primeira posição da lista é 0:  amanda\n",
      "a terceira poisição da lista é 2: bruno\n",
      " a quarta poisção da lista é 3:  joão\n",
      "para retornar uma fatia, voce dever retornar uma seguinte sintaxe\n",
      "nomelista[posiçãoinicial:poisiçãofinal] ['ana', 'bruno', 'joão']\n"
     ]
    }
   ],
   "source": [
    "# Os elementos de uma lista podem ser acessados através dos indices\n",
    "\n",
    "# Retornar a aluna Amanda\n",
    "print ('a primeira posição da lista é 0: ', alunos[0])\n",
    "\n",
    "#retornar o aluno bruno\n",
    "print('a terceira poisição da lista é 2:', alunos[2])\n",
    "\n",
    "#retonar o aluno joão \n",
    "print(' a quarta poisção da lista é 3: ', alunos[3])\n",
    "\n",
    "#Retornar uma fatia de dados\n",
    "print('para retornar uma fatia, voce dever retornar uma seguinte sintaxe' +\n",
    "     '\\n''nomelista[posiçãoinicial:poisiçãofinal]', alunos[1:4])"
   ]
  },
  {
   "cell_type": "markdown",
   "metadata": {},
   "source": [
    "# Listas (list) - Adcionar novos elementos"
   ]
  },
  {
   "cell_type": "code",
   "execution_count": 27,
   "metadata": {},
   "outputs": [
    {
     "name": "stdout",
     "output_type": "stream",
     "text": [
      "['amanda', 'ana', 'bruno', 'joão', 'jordel', 'jordel', 'jordel', 'samuca', 'jordel']\n"
     ]
    }
   ],
   "source": [
    "# Adcionar 2 nomes a lista alunos\n",
    "\n",
    "alunos.append ('samuca')\n",
    "alunos.append ('jordel')\n",
    "\n",
    "print(alunos)\n"
   ]
  },
  {
   "cell_type": "code",
   "execution_count": 8,
   "metadata": {},
   "outputs": [
    {
     "name": "stdout",
     "output_type": "stream",
     "text": [
      "[10, 8.5, 7, 8, 8.0, 10, 5]\n"
     ]
    }
   ],
   "source": [
    "# Adcionar 2 valores a lista notas\n",
    "notas.append(10)\n",
    "notas.append(5)\n",
    "\n",
    "print(notas)"
   ]
  },
  {
   "cell_type": "markdown",
   "metadata": {},
   "source": [
    "### Listas (list) removendo elementos de uma lista\n",
    "\n"
   ]
  },
  {
   "cell_type": "code",
   "execution_count": 28,
   "metadata": {},
   "outputs": [],
   "source": [
    "# removendo um item de acordo com o valor\n",
    "\n",
    "alunos.remove ('samuca')\n",
    "\n",
    "\n",
    "\n"
   ]
  },
  {
   "cell_type": "markdown",
   "metadata": {},
   "source": [
    "### Lista (list) – Conversão para string\n",
    "\n",
    "Já para criar uma string com todos os elementos de uma lista, podemos utilizar o\n",
    "comando join():"
   ]
  },
  {
   "cell_type": "code",
   "execution_count": 34,
   "metadata": {},
   "outputs": [
    {
     "name": "stdout",
     "output_type": "stream",
     "text": [
      "<class 'str'>\n",
      "amanda,ana,bruno,joão,jordel,jordel,jordel,jordel\n",
      "<class 'list'>\n"
     ]
    }
   ],
   "source": [
    "listastring = ',' .join(alunos)\n",
    "\n",
    "print (type(listastring))\n",
    "print (listastring)\n",
    "print (type(alunos))\n",
    "\n"
   ]
  },
  {
   "cell_type": "markdown",
   "metadata": {},
   "source": [
    "### Lista (List) - string para lista\n",
    "\n",
    "Ainda com strings, podemos criar uma lista a partir de uma string com o comando\n",
    "split():\n"
   ]
  },
  {
   "cell_type": "code",
   "execution_count": 36,
   "metadata": {},
   "outputs": [
    {
     "name": "stdout",
     "output_type": "stream",
     "text": [
      "batata;cebola;tomate;laranja\n",
      "['batata', 'cebola', 'tomate', 'laranja']\n"
     ]
    }
   ],
   "source": [
    "feira = 'batata;cebola;tomate;laranja'\n",
    "\n",
    "listafeira = feira.split(';')\n",
    "\n",
    "print(feira)\n",
    "print(listafeira)"
   ]
  },
  {
   "cell_type": "markdown",
   "metadata": {},
   "source": [
    "### tuplas\n",
    "\n",
    "Assim como Lista, Tupla é um tipo que agrupa um conjunto de elementos.\n",
    "Porém sua forma de definição é diferente: utilizamos parênteses e também\n",
    "separado por vírgula.\n",
    "\n",
    "A diferença para Lista é que Tuplas são imutáveis, ou seja, após sua definição, Tuplas\n",
    "não podem ser modificadas."
   ]
  },
  {
   "cell_type": "markdown",
   "metadata": {},
   "source": []
  },
  {
   "cell_type": "code",
   "execution_count": 37,
   "metadata": {},
   "outputs": [
    {
     "name": "stdout",
     "output_type": "stream",
     "text": [
      "<class 'tuple'>\n",
      "<class 'tuple'>\n"
     ]
    }
   ],
   "source": [
    "# Criando TUPLAS\n",
    "\n",
    "valores = (90, 79, 54, 32, 21)\n",
    "pontos = (100, 94.05, 86.08, 62)\n",
    "\n",
    "# verificando o tipo de lado\n",
    "\n",
    "print(type(valores))\n",
    "print(type(pontos))\n",
    "\n"
   ]
  },
  {
   "cell_type": "code",
   "execution_count": 42,
   "metadata": {},
   "outputs": [
    {
     "ename": "NameError",
     "evalue": "name 'typeError' is not defined",
     "output_type": "error",
     "traceback": [
      "\u001b[1;31m---------------------------------------------------------------------------\u001b[0m",
      "\u001b[1;31mTypeError\u001b[0m                                 Traceback (most recent call last)",
      "\u001b[1;32mc:\\Users\\FIC\\Documents\\samuel-leite-python\\.vscode\\Aula 04 - explicação sobre listas, tuplas e dicionarios.ipynb Cell 17\u001b[0m line \u001b[0;36m3\n\u001b[0;32m      <a href='vscode-notebook-cell:/c%3A/Users/FIC/Documents/samuel-leite-python/.vscode/Aula%2004%20-%20explica%C3%A7%C3%A3o%20sobre%20listas%2C%20tuplas%20e%20dicionarios.ipynb#X30sZmlsZQ%3D%3D?line=1'>2</a>\u001b[0m \u001b[39mtry\u001b[39;00m:\n\u001b[1;32m----> <a href='vscode-notebook-cell:/c%3A/Users/FIC/Documents/samuel-leite-python/.vscode/Aula%2004%20-%20explica%C3%A7%C3%A3o%20sobre%20listas%2C%20tuplas%20e%20dicionarios.ipynb#X30sZmlsZQ%3D%3D?line=2'>3</a>\u001b[0m     valores[\u001b[39m1\u001b[39;49m] \u001b[39m=\u001b[39m \u001b[39m10\u001b[39m\n\u001b[0;32m      <a href='vscode-notebook-cell:/c%3A/Users/FIC/Documents/samuel-leite-python/.vscode/Aula%2004%20-%20explica%C3%A7%C3%A3o%20sobre%20listas%2C%20tuplas%20e%20dicionarios.ipynb#X30sZmlsZQ%3D%3D?line=4'>5</a>\u001b[0m \u001b[39mexcept\u001b[39;00m typeError:\n",
      "\u001b[1;31mTypeError\u001b[0m: 'tuple' object does not support item assignment",
      "\nDuring handling of the above exception, another exception occurred:\n",
      "\u001b[1;31mNameError\u001b[0m                                 Traceback (most recent call last)",
      "\u001b[1;32mc:\\Users\\FIC\\Documents\\samuel-leite-python\\.vscode\\Aula 04 - explicação sobre listas, tuplas e dicionarios.ipynb Cell 17\u001b[0m line \u001b[0;36m5\n\u001b[0;32m      <a href='vscode-notebook-cell:/c%3A/Users/FIC/Documents/samuel-leite-python/.vscode/Aula%2004%20-%20explica%C3%A7%C3%A3o%20sobre%20listas%2C%20tuplas%20e%20dicionarios.ipynb#X30sZmlsZQ%3D%3D?line=1'>2</a>\u001b[0m \u001b[39mtry\u001b[39;00m:\n\u001b[0;32m      <a href='vscode-notebook-cell:/c%3A/Users/FIC/Documents/samuel-leite-python/.vscode/Aula%2004%20-%20explica%C3%A7%C3%A3o%20sobre%20listas%2C%20tuplas%20e%20dicionarios.ipynb#X30sZmlsZQ%3D%3D?line=2'>3</a>\u001b[0m     valores[\u001b[39m1\u001b[39m] \u001b[39m=\u001b[39m \u001b[39m10\u001b[39m\n\u001b[1;32m----> <a href='vscode-notebook-cell:/c%3A/Users/FIC/Documents/samuel-leite-python/.vscode/Aula%2004%20-%20explica%C3%A7%C3%A3o%20sobre%20listas%2C%20tuplas%20e%20dicionarios.ipynb#X30sZmlsZQ%3D%3D?line=4'>5</a>\u001b[0m \u001b[39mexcept\u001b[39;00m typeError:\n\u001b[0;32m      <a href='vscode-notebook-cell:/c%3A/Users/FIC/Documents/samuel-leite-python/.vscode/Aula%2004%20-%20explica%C3%A7%C3%A3o%20sobre%20listas%2C%20tuplas%20e%20dicionarios.ipynb#X30sZmlsZQ%3D%3D?line=6'>7</a>\u001b[0m     \u001b[39mprint\u001b[39m: (\u001b[39m'\u001b[39m\u001b[39mnão e possivel modificar uma tupla!\u001b[39m\u001b[39m'\u001b[39m)\n",
      "\u001b[1;31mNameError\u001b[0m: name 'typeError' is not defined"
     ]
    }
   ],
   "source": [
    "# Acessar elementos na tupla e tratamentos de erros\n",
    "try:\n",
    "    valores[1] = 10\n",
    "\n",
    "except typeError:\n",
    "\n",
    "    print: ('não e possivel modificar uma tupla!')\n"
   ]
  },
  {
   "cell_type": "markdown",
   "metadata": {},
   "source": [
    "Dicionários (dict)\n",
    "\n",
    "Dict é um tipo de dado muito flexível do Python.\n",
    "Eles são utilizados para agrupar elementos através da estrutura de chave e valor,\n",
    "onde a chave é o primeiro elemento seguido por dois pontos e pelo valor.\n",
    "Vamos ver alguns exemplos:\n",
    "\n",
    ". chave - valor\n",
    ". mutavel\n",
    ". chaves\n"
   ]
  },
  {
   "cell_type": "code",
   "execution_count": 44,
   "metadata": {},
   "outputs": [
    {
     "name": "stdout",
     "output_type": "stream",
     "text": [
      "<class 'dict'>\n",
      "<class 'dict'>\n"
     ]
    }
   ],
   "source": [
    "# criando o dicionario ALTURA\n",
    "altura ={'amanda': 1.65, 'ana': 1.60, 'joão': 1.70}\n",
    "\n",
    "#criando o dicionario de peso\n",
    "peso ={'amanda': 60, 'ana': 58, 'joão': 68}\n",
    "\n",
    "#verificando os tipos de dados\n",
    "\n",
    "print(type(altura))\n",
    "print(type(peso))\n"
   ]
  },
  {
   "cell_type": "code",
   "execution_count": null,
   "metadata": {},
   "outputs": [],
   "source": []
  }
 ],
 "metadata": {
  "kernelspec": {
   "display_name": "Python 3",
   "language": "python",
   "name": "python3"
  },
  "language_info": {
   "codemirror_mode": {
    "name": "ipython",
    "version": 3
   },
   "file_extension": ".py",
   "mimetype": "text/x-python",
   "name": "python",
   "nbconvert_exporter": "python",
   "pygments_lexer": "ipython3",
   "version": "3.11.0"
  }
 },
 "nbformat": 4,
 "nbformat_minor": 2
}
