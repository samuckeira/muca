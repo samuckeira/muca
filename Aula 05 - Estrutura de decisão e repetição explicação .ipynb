{
 "cells": [
  {
   "cell_type": "markdown",
   "metadata": {},
   "source": [
    "Loop FOR\n",
    "\n",
    "A estrutura de repetição for pode atuar sobre itens de qualquer tipo de sequência\n",
    "(lista ou string) na ordem em que aparecem."
   ]
  },
  {
   "cell_type": "markdown",
   "metadata": {},
   "source": [
    "##### Exemplo FOR Simples"
   ]
  },
  {
   "cell_type": "code",
   "execution_count": 1,
   "metadata": {},
   "outputs": [
    {
     "name": "stdout",
     "output_type": "stream",
     "text": [
      "abacate repetição de n°: 1\n",
      "pera repetição de n°: 2\n",
      "abacaxi repetição de n°: 3\n"
     ]
    }
   ],
   "source": [
    "frutas = ['abacate', 'pera', 'abacaxi']\n",
    "qtde = 0\n",
    "for frutas in frutas:\n",
    "    qtde = qtde + 1\n",
    "    print(frutas, 'repetição de n°:', qtde)"
   ]
  },
  {
   "cell_type": "markdown",
   "metadata": {},
   "source": [
    "### Exemplo 02 -  FOR condicional "
   ]
  },
  {
   "cell_type": "code",
   "execution_count": 11,
   "metadata": {},
   "outputs": [
    {
     "name": "stdout",
     "output_type": "stream",
     "text": [
      "['Abacate', 'Pera', 'Abacaxi']\n",
      "['Abacate', 'Pera', 'Abacaxi']\n"
     ]
    }
   ],
   "source": [
    "frutas = ['Abacate' , 'Pera' , 'Abacaxi']\n",
    "\n",
    "for fruta in frutas:\n",
    "    if fruta.startswith('A'):\n",
    "        print(frutas)"
   ]
  },
  {
   "cell_type": "markdown",
   "metadata": {},
   "source": []
  },
  {
   "cell_type": "markdown",
   "metadata": {},
   "source": [
    "#### Exemplo 3 - FOR com acumulador"
   ]
  },
  {
   "cell_type": "code",
   "execution_count": 16,
   "metadata": {},
   "outputs": [
    {
     "name": "stdout",
     "output_type": "stream",
     "text": [
      "55\n"
     ]
    }
   ],
   "source": [
    "listaNumeros = [1,2,3,4,5,6,7,8,9,10]\n",
    "soma = 0 # variavel acumulados\n",
    "\n",
    "for num in listaNumeros:\n",
    "    soma = soma + num\n",
    "    \n",
    "print(soma)"
   ]
  },
  {
   "cell_type": "markdown",
   "metadata": {},
   "source": [
    "#### Exemplo 01"
   ]
  },
  {
   "cell_type": "code",
   "execution_count": 1,
   "metadata": {},
   "outputs": [
    {
     "name": "stdout",
     "output_type": "stream",
     "text": [
      "15\n"
     ]
    }
   ],
   "source": [
    "condicao = 1\n",
    "soma = 0 \n",
    "# este bloco será repetido enquanto o valor \n",
    "# da variavel condição for menor ou igual do que 5\n",
    "\n",
    "while condicao <= 5:\n",
    "    soma += condicao\n",
    "    condicao += 1\n",
    "\n",
    "print(soma)"
   ]
  },
  {
   "cell_type": "markdown",
   "metadata": {},
   "source": []
  }
 ],
 "metadata": {
  "kernelspec": {
   "display_name": "Python 3",
   "language": "python",
   "name": "python3"
  },
  "language_info": {
   "codemirror_mode": {
    "name": "ipython",
    "version": 3
   },
   "file_extension": ".py",
   "mimetype": "text/x-python",
   "name": "python",
   "nbconvert_exporter": "python",
   "pygments_lexer": "ipython3",
   "version": "3.11.0"
  }
 },
 "nbformat": 4,
 "nbformat_minor": 2
}
