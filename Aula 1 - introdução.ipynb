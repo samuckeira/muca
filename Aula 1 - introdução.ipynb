{
 "cells": [
  {
   "cell_type": "markdown",
   "metadata": {},
   "source": [
    "#### tipo de variaveis\n",
    "string (str) - texto\n",
    "\n",
    "integer (int) - numeros inteiros\n",
    "\n",
    "float (float) - numeros decimais \n",
    "\n",
    "boolean (bool) - true or false\n",
    "\n",
    "\n"
   ]
  },
  {
   "cell_type": "code",
   "execution_count": 4,
   "metadata": {},
   "outputs": [],
   "source": [
    "# - este bloco é destinado a declaração de variáveis\n",
    "a = 10\n",
    "b = 'banana'\n",
    "c = 0.5\n"
   ]
  },
  {
   "cell_type": "code",
   "execution_count": 5,
   "metadata": {},
   "outputs": [
    {
     "data": {
      "text/plain": [
       "11.0"
      ]
     },
     "execution_count": 5,
     "metadata": {},
     "output_type": "execute_result"
    }
   ],
   "source": [
    "# - calculando com base nos valores das variáveis\n",
    "c *2 + a"
   ]
  },
  {
   "cell_type": "code",
   "execution_count": 8,
   "metadata": {},
   "outputs": [
    {
     "data": {
      "text/plain": [
       "float"
      ]
     },
     "execution_count": 8,
     "metadata": {},
     "output_type": "execute_result"
    }
   ],
   "source": [
    "# - indentificando os tipos de\n",
    "type(c)"
   ]
  },
  {
   "cell_type": "markdown",
   "metadata": {},
   "source": [
    "Exercício 01 \n",
    "\n",
    "Crie um programa para receber dois valores e em seguida, exiba o valor da soma.\n",
    "\n"
   ]
  },
  {
   "cell_type": "code",
   "execution_count": 13,
   "metadata": {},
   "outputs": [
    {
     "name": "stdout",
     "output_type": "stream",
     "text": [
      "o resultado desta operação é:  50\n"
     ]
    }
   ],
   "source": [
    "# declarando as variaveis e atribuindo valores\n",
    "num_1 = 20\n",
    "num_2 = 30\n",
    "\n",
    "# realizando a soma das variaveis anteriores\n",
    "soma = num_1 + num_2\n",
    "\n",
    "# exibir o resultado da soma\n",
    "print('o resultado desta operação é: ',soma)"
   ]
  },
  {
   "cell_type": "markdown",
   "metadata": {},
   "source": [
    "Exercício 01 – \n",
    "\n",
    "Crie um programa para receber dois valores e em seguida, exiba o valor da soma.\n"
   ]
  },
  {
   "cell_type": "code",
   "execution_count": 3,
   "metadata": {},
   "outputs": [],
   "source": [
    "a = 347\n",
    "b = 2.71\n",
    "c = '347'\n",
    "d = 2 + 3j\n",
    "e = True\n"
   ]
  },
  {
   "cell_type": "markdown",
   "metadata": {},
   "source": [
    "Quais são tipos das variaveis acima\n"
   ]
  },
  {
   "cell_type": "code",
   "execution_count": 8,
   "metadata": {},
   "outputs": [
    {
     "name": "stdout",
     "output_type": "stream",
     "text": [
      "o tipo de dado da variavel A é: <class 'int'>\n",
      "o tipo de dado da variavel A é: <class 'float'>\n",
      "o tipo de dado da variavel A é: <class 'str'>\n",
      "o tipo de dado de variavel A é: <class 'complex'>\n",
      "o tipo de dado da variavel A é: <class 'bool'>\n"
     ]
    }
   ],
   "source": [
    "print('o tipo de dado da variavel A é:', type(a))\n",
    "print('o tipo de dado da variavel A é:', type(b))\n",
    "print('o tipo de dado da variavel A é:', type(c))\n",
    "print('o tipo de dado de variavel A é:', type(d))\n",
    "print('o tipo de dado da variavel A é:', type(e))"
   ]
  }
 ],
 "metadata": {
  "kernelspec": {
   "display_name": "Python 3",
   "language": "python",
   "name": "python3"
  },
  "language_info": {
   "codemirror_mode": {
    "name": "ipython",
    "version": 3
   },
   "file_extension": ".py",
   "mimetype": "text/x-python",
   "name": "python",
   "nbconvert_exporter": "python",
   "pygments_lexer": "ipython3",
   "version": "3.11.0"
  },
  "orig_nbformat": 4
 },
 "nbformat": 4,
 "nbformat_minor": 2
}
