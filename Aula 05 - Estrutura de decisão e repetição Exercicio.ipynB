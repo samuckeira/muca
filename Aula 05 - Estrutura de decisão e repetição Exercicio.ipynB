{
 "cells": [
  {
   "cell_type": "markdown",
   "metadata": {},
   "source": [
    "### Exercício 06  \n",
    "\n",
    "Faça um programa que imprima na tela os números de 1 a 20, um abaixo\n",
    "do outro. Depois modifique o programa para que ele mostre os números um ao lado do\n",
    "outro."
   ]
  },
  {
   "cell_type": "code",
   "execution_count": null,
   "metadata": {},
   "outputs": [],
   "source": [
    "# Exibir um abaixo do outro\n",
    "\n",
    "listaNumeros = range(1,21)\n",
    "\n",
    "for i in listaNumeros:\n",
    "    print(i)"
   ]
  },
  {
   "cell_type": "code",
   "execution_count": null,
   "metadata": {},
   "outputs": [],
   "source": [
    "listanumeros = range (1,21)\n",
    "\n",
    "#criar uma lista vazia\n",
    "\n",
    "lista =[] # - lista vazia\n",
    "\n",
    "for i in listanumeros:\n",
    "    lista.append(i)\n",
    "    print (lista)\n",
    "\n",
    "\n",
    "print(lista)"
   ]
  },
  {
   "cell_type": "markdown",
   "metadata": {},
   "source": [
    "#### Exercício 08 \n",
    "\n",
    "Faça um programa que leia 5 números e informe a soma e a média dos\n",
    "números."
   ]
  },
  {
   "cell_type": "code",
   "execution_count": null,
   "metadata": {},
   "outputs": [],
   "source": [
    "# Exemplo 01\n",
    "\n",
    "listaNumeros = (20,35,58,65,99)\n",
    "soma = 0\n",
    "\n",
    "# A função LEN retorna a qtde de elementos de um conjunto\n",
    "qtdeElementos = len(listaNumeros)\n",
    "\n",
    "for num in listaNumeros:\n",
    "    soma += num\n",
    "media = soma / qtdeElementos\n",
    "print (f'A soma dos valores é {soma}, e a media é {media}.')\n",
    "\n"
   ]
  },
  {
   "cell_type": "markdown",
   "metadata": {},
   "source": [
    "#### outro exemplo para o exercicio 8."
   ]
  },
  {
   "cell_type": "code",
   "execution_count": null,
   "metadata": {},
   "outputs": [],
   "source": [
    "listaNumeros = [] #listavazia\n",
    "\n",
    "qtde = range(1,6)\n",
    "\n",
    "for x in qtde:\n",
    "    numero = int (input('insira um valor'))\n",
    "    listaNumeros.append(numero)\n",
    "\n",
    "listaNumeros\n",
    "\n"
   ]
  },
  {
   "cell_type": "markdown",
   "metadata": {},
   "source": [
    "#### Exercício 09 \n",
    "\n",
    "Faça um programa que imprima na tela apenas os números ímpares\n",
    "entre 1 e 50."
   ]
  },
  {
   "cell_type": "code",
   "execution_count": null,
   "metadata": {},
   "outputs": [],
   "source": [
    "listaNumeros = range(1,51)\n",
    "\n",
    "for num in listaNumeros:\n",
    "    # Verificar se o numero é impar\n",
    "    # todo numero impar tem um resto diferente \n",
    "    # de zer quando é divido por 2\n",
    "\n",
    "    if num%2 != 0:\n",
    "        print(num)\n",
    "        \n"
   ]
  },
  {
   "cell_type": "markdown",
   "metadata": {},
   "source": [
    "#### Exercício 10  \n",
    "\n",
    "Faça um programa que receba dois números inteiros e gere os números\n",
    "inteiros que estão no intervalo compreendido por eles."
   ]
  },
  {
   "cell_type": "code",
   "execution_count": null,
   "metadata": {},
   "outputs": [],
   "source": [
    "numinferior = int(input('....'))\n",
    "numsuperior = int(input('....'))\n",
    "\n",
    "for i in range  (numinferior, numsuperior):\n",
    "    print(i)"
   ]
  },
  {
   "cell_type": "markdown",
   "metadata": {},
   "source": [
    "### Exercício 11  \n",
    "\n",
    "\n",
    "Altere o programa anterior para mostrar no final a soma dos números."
   ]
  },
  {
   "cell_type": "code",
   "execution_count": null,
   "metadata": {},
   "outputs": [],
   "source": [
    "\n",
    "numinferior = int(input(\"Digite um numero menor: \"))\n",
    "numsuperior = int(input(\"Digite um numero maior: \"))\n",
    "\n",
    "somatorio = 0\n",
    "\n",
    "for i in range(numinferior + 1, numsuperior):\n",
    "    print(i)\n",
    "    somatorio += i\n",
    "print(f\"Somatorio: {somatorio}\")"
   ]
  },
  {
   "cell_type": "markdown",
   "metadata": {},
   "source": [
    "### Exercício 01\n",
    "\n",
    "Faça um programa que peça uma nota, entre zero e dez. Mostre uma\n",
    "mensagem caso o valor seja inválido e continue pedindo até que o usuário informe um\n",
    "valor válido."
   ]
  },
  {
   "cell_type": "code",
   "execution_count": null,
   "metadata": {},
   "outputs": [],
   "source": [
    "num = int(input('digit um nota entre 0 e 10'))\n",
    "\n",
    "while num > 10:\n",
    "    num = int(input('valor invalido! Digite uma nota entre 0 e 10'))\n",
    "\n",
    "\n",
    "print('valeu!')"
   ]
  },
  {
   "cell_type": "markdown",
   "metadata": {},
   "source": [
    "#### Exercício 02  \n",
    "\n",
    "Faça um programa que leia um nome de usuário e a sua senha e não\n",
    "aceite a senha igual ao nome do usuário, mostrando uma mensagem de erro e voltando\n",
    "a pedir as informações."
   ]
  },
  {
   "cell_type": "code",
   "execution_count": null,
   "metadata": {},
   "outputs": [],
   "source": [
    "print('faça já seu cadastro:')\n",
    "\n",
    "usuario = input('digite seu usuário ')\n",
    "senha = input('digite sua senha')\n",
    "\n",
    "\n",
    "while usuario.lower == senha.lower:\n",
    "\tprint('ERRO: o usuário não pode ser igual a senha, tente novamente')\n",
    "\tusuario = input('usuário')\n",
    "\tsenha = input('senha')\n",
    "else:\n",
    "\tprint('cadastrado efetuado com sucesso')"
   ]
  },
  {
   "cell_type": "code",
   "execution_count": null,
   "metadata": {},
   "outputs": [],
   "source": [
    "nome = 'samuel'\n",
    "\n",
    "nome.lower() # o comando lower torna todos os caracteres minusculos\n",
    "nome.upper() # o comando upper torna todos os caracteres maiusculos\n"
   ]
  },
  {
   "cell_type": "markdown",
   "metadata": {},
   "source": [
    "### Exercício 12  \n",
    "\n",
    "Desenvolva um gerador de tabuada, capaz de gerar a tabuada de\n",
    "qualquer número inteiro entre 1 a 10. O usuário deve informar de qual numero ele deseja\n",
    "ver a tabuada. A saída deve ser conforme o exemplo abaixo:"
   ]
  },
  {
   "cell_type": "code",
   "execution_count": 63,
   "metadata": {},
   "outputs": [
    {
     "name": "stdout",
     "output_type": "stream",
     "text": [
      "2 X 1 = 2\n",
      "2 X 2 = 4\n",
      "2 X 3 = 6\n",
      "2 X 4 = 8\n",
      "2 X 5 = 10\n",
      "2 X 6 = 12\n",
      "2 X 7 = 14\n",
      "2 X 8 = 16\n",
      "2 X 9 = 18\n",
      "2 X 10 = 20\n"
     ]
    }
   ],
   "source": [
    "numero = int(input('Digite um numero de 1 a 10: '))\n",
    "\n",
    "for i in range(1, 11):\n",
    "    print(f'{numero} X {i} = {numero * i}')\n",
    "\n",
    "while x <= 10:\n",
    "    print (f'{numero} X {x} = {numero * x}')\n",
    "    x += 1"
   ]
  },
  {
   "cell_type": "markdown",
   "metadata": {},
   "source": []
  },
  {
   "cell_type": "code",
   "execution_count": 59,
   "metadata": {},
   "outputs": [
    {
     "name": "stdout",
     "output_type": "stream",
     "text": [
      "2 X 1 = 2\n",
      "2 X 2 = 4\n",
      "2 X 3 = 6\n",
      "2 X 4 = 8\n",
      "2 X 5 = 10\n",
      "2 X 6 = 12\n",
      "2 X 7 = 14\n",
      "2 X 8 = 16\n",
      "2 X 9 = 18\n",
      "2 X 10 = 20\n"
     ]
    }
   ],
   "source": [
    "numero = int(input('digite um numero de 1 a 10:'))\n",
    "x = 1\n",
    "while x <= 10:\n",
    "    print (f'{numero} X {x} = {numero * x}')\n",
    "    x += 1\n",
    "\n",
    "    "
   ]
  }
 ],
 "metadata": {
  "kernelspec": {
   "display_name": "Python 3",
   "language": "python",
   "name": "python3"
  },
  "language_info": {
   "codemirror_mode": {
    "name": "ipython",
    "version": 3
   },
   "file_extension": ".py",
   "mimetype": "text/x-python",
   "name": "python",
   "nbconvert_exporter": "python",
   "pygments_lexer": "ipython3",
   "version": "3.11.0"
  }
 },
 "nbformat": 4,
 "nbformat_minor": 2
}
